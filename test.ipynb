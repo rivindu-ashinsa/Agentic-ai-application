{
 "cells": [
  {
   "cell_type": "code",
   "execution_count": 10,
   "id": "2120bbfa",
   "metadata": {},
   "outputs": [],
   "source": [
    "from langgraph.graph import StateGraph, END, START  \n",
    "from typing import TypedDict, List\n",
    "from langchain_core.messages import HumanMessage, SystemMessage\n"
   ]
  },
  {
   "cell_type": "code",
   "execution_count": null,
   "id": "bc83b165",
   "metadata": {},
   "outputs": [
    {
     "name": "stdout",
     "output_type": "stream",
     "text": [
      "### Philosophical Perspectives\n",
      "The meaning of life has puzzled thinkers for millennia, with no single definitive answer. From ancient Greek philosophers like Aristotle, who argued that eudaimonia (flourishing through virtue and reason) is the ultimate goal, to existentialists like Sartre, who claimed life is inherently meaningless but our freedom allows us to create our own purpose. Nihilists like Nietzsche suggested we embrace the void and will ourselves into meaning. In short, philosophy sees meaning as subjective: you define it through ethics, relationships, or personal growth.\n",
      "\n",
      "### Religious and Spiritual Views\n",
      "Many religions provide answers tied to divine purpose. Christianity teaches that life's meaning is to love God and others, aspiring to eternal life. In Buddhism and Hinduism, it's about escaping the cycle of suffering through enlightenment (nirvana or moksha). Islam emphasizes submission to God's will and good deeds for paradise. Spirituality often frames life as a journey toward higher consciousness or karma. These views offer hope but rely on faith, not empirical proof.\n",
      "\n",
      "### Scientific and Evolutionary Angles\n",
      "From a scientific standpoint, life lacks inherent meaning; it's a product of evolution by natural selection. Darwin's theory explains existence as survival and reproduction, with consciousness emerging as an accidental byproduct. Cosmically, we're on a tiny rock in an immense universe—Carl Sagan called humanity a \"way for the cosmos to know itself.\" Modern neuroscience views purpose as a byproduct of brain chemistry, motivating us to persist despite hardships. Essentially, meaning is what we make of random events.\n",
      "\n",
      "### Personal and Practical Takeaways\n",
      "If you're seeking personal guidance, meaning often emerges from connection: relationships, passions, impact on others. Viktor Frankl's logotherapy suggests finding purpose in suffering or everyday heroism. Try reflecting on what fulfills you—art, science, helping others. As a humorous nod, some say it's 42 (a la *The Hitchhiker's Guide to the Galaxy*), a reminder that answers can be arbitrary. Ultimately, life's meaning is yours to uncover: experiment, question, and don't sweat the big stuff. If it's weighing on you, talk to someone who cares—they might hold a key.\n"
     ]
    }
   ],
   "source": [
    "from openai import OpenAI\n",
    "import os \n",
    "\n",
    "OPEN_AI_KEY = os.getenv(\"OPEN_AI_KEY\")\n",
    "client = OpenAI(\n",
    "  base_url=\"https://openrouter.ai/api/v1\",\n",
    "  api_key=\"\" + OPEN_AI_KEY,\n",
    ")\n",
    "\n",
    "def call_agent(message_content):\n",
    "    completion = client.chat.completions.create(\n",
    "    extra_headers={\n",
    "        \"HTTP-Referer\": \"<YOUR_SITE_URL>\", # Optional. Site URL for rankings on openrouter.ai.\n",
    "        \"X-Title\": \"<YOUR_SITE_NAME>\", # Optional. Site title for rankings on openrouter.ai.\n",
    "    },\n",
    "    extra_body={},\n",
    "    model=\"x-ai/grok-code-fast-1\",\n",
    "    messages=[\n",
    "        {\n",
    "        \"role\": \"user\",\n",
    "        \"content\": message_content\n",
    "        }\n",
    "    ]\n",
    "    )\n",
    "    return completion.choices[0].message.content"
   ]
  },
  {
   "cell_type": "code",
   "execution_count": null,
   "id": "218b0347",
   "metadata": {},
   "outputs": [],
   "source": [
    "class AgentState(TypedDict):\n",
    "    file_summaries : List[SystemMessage]\n",
    "\n",
    "\n",
    "\n",
    "graph = StateGraph(AgentState)\n",
    "\n",
    "\n",
    "\n",
    "\n"
   ]
  },
  {
   "cell_type": "code",
   "execution_count": null,
   "id": "f813cbdb",
   "metadata": {},
   "outputs": [],
   "source": []
  }
 ],
 "metadata": {
  "kernelspec": {
   "display_name": ".venv",
   "language": "python",
   "name": "python3"
  },
  "language_info": {
   "codemirror_mode": {
    "name": "ipython",
    "version": 3
   },
   "file_extension": ".py",
   "mimetype": "text/x-python",
   "name": "python",
   "nbconvert_exporter": "python",
   "pygments_lexer": "ipython3",
   "version": "3.12.2"
  }
 },
 "nbformat": 4,
 "nbformat_minor": 5
}
